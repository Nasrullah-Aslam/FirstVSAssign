{
 "cells": [
  {
   "cell_type": "markdown",
   "id": "9a5e6bc2",
   "metadata": {},
   "source": [
    "# Basic Data Structure\n",
    "1- Tuple\n",
    "\n",
    "2-List\n",
    "\n",
    "3-Directories\n",
    "\n",
    "4-Set"
   ]
  },
  {
   "cell_type": "markdown",
   "id": "886d7e25",
   "metadata": {},
   "source": [
    "# 1-Tuple\n",
    "\n",
    "1- Ordered collection of elements\n",
    "\n",
    "2-enclosed in round braces()\n",
    "\n",
    "3-Different kind of elements can be stored\n",
    "\n",
    "4-Once element is stored you can not change them (Unmutable)"
   ]
  },
  {
   "cell_type": "code",
   "execution_count": 1,
   "id": "defd0aeb",
   "metadata": {
    "scrolled": true
   },
   "outputs": [
    {
     "data": {
      "text/plain": [
       "(20, 100, 200, 20, 20, 1.5, 'hello', 1.5, False)"
      ]
     },
     "execution_count": 1,
     "metadata": {},
     "output_type": "execute_result"
    }
   ],
   "source": [
    "tup= (20, 100, 200, 20, 20, 1.5, 'hello', 1.5, False)\n",
    "tup"
   ]
  },
  {
   "cell_type": "code",
   "execution_count": 2,
   "id": "fee2ab07",
   "metadata": {
    "scrolled": false
   },
   "outputs": [
    {
     "data": {
      "text/plain": [
       "tuple"
      ]
     },
     "execution_count": 2,
     "metadata": {},
     "output_type": "execute_result"
    }
   ],
   "source": [
    "type(tup)"
   ]
  },
  {
   "cell_type": "markdown",
   "id": "06b4c7d8",
   "metadata": {},
   "source": [
    "# Function in Tuple"
   ]
  },
  {
   "cell_type": "code",
   "execution_count": 3,
   "id": "a5d08c90",
   "metadata": {},
   "outputs": [
    {
     "data": {
      "text/plain": [
       "3"
      ]
     },
     "execution_count": 3,
     "metadata": {},
     "output_type": "execute_result"
    }
   ],
   "source": [
    "tup.count(20)"
   ]
  },
  {
   "cell_type": "code",
   "execution_count": 4,
   "id": "602fe449",
   "metadata": {},
   "outputs": [
    {
     "data": {
      "text/plain": [
       "6"
      ]
     },
     "execution_count": 4,
     "metadata": {},
     "output_type": "execute_result"
    }
   ],
   "source": [
    "tup.index('hello')"
   ]
  },
  {
   "cell_type": "markdown",
   "id": "f38684ec",
   "metadata": {},
   "source": [
    "## Indexing in tuple"
   ]
  },
  {
   "cell_type": "code",
   "execution_count": 5,
   "id": "81da3a74",
   "metadata": {},
   "outputs": [
    {
     "data": {
      "text/plain": [
       "(20, 100, 200, 20)"
      ]
     },
     "execution_count": 5,
     "metadata": {},
     "output_type": "execute_result"
    }
   ],
   "source": [
    "tup[0:4]"
   ]
  },
  {
   "cell_type": "code",
   "execution_count": 6,
   "id": "6500f8a1",
   "metadata": {
    "scrolled": true
   },
   "outputs": [
    {
     "data": {
      "text/plain": [
       "100"
      ]
     },
     "execution_count": 6,
     "metadata": {},
     "output_type": "execute_result"
    }
   ],
   "source": [
    "tup[1]"
   ]
  },
  {
   "cell_type": "code",
   "execution_count": 7,
   "id": "7c4b22f4",
   "metadata": {},
   "outputs": [
    {
     "data": {
      "text/plain": [
       "9"
      ]
     },
     "execution_count": 7,
     "metadata": {},
     "output_type": "execute_result"
    }
   ],
   "source": [
    "# Count of elements in tuple\n",
    "len(tup)"
   ]
  },
  {
   "cell_type": "code",
   "execution_count": 8,
   "id": "edbf285d",
   "metadata": {},
   "outputs": [
    {
     "data": {
      "text/plain": [
       "(10, 'hi')"
      ]
     },
     "execution_count": 8,
     "metadata": {},
     "output_type": "execute_result"
    }
   ],
   "source": [
    "tup1=(10, 'hi')\n",
    "tup1"
   ]
  },
  {
   "cell_type": "code",
   "execution_count": 9,
   "id": "9e90232f",
   "metadata": {},
   "outputs": [
    {
     "data": {
      "text/plain": [
       "(20, 100, 200, 20, 20, 1.5, 'hello', 1.5, False, 10, 'hi')"
      ]
     },
     "execution_count": 9,
     "metadata": {},
     "output_type": "execute_result"
    }
   ],
   "source": [
    "# Concatinate (to add 2 tuple)\n",
    "tup + tup1"
   ]
  },
  {
   "cell_type": "code",
   "execution_count": 10,
   "id": "73c85601",
   "metadata": {},
   "outputs": [
    {
     "data": {
      "text/plain": [
       "(10, 'hi', 10, 'hi')"
      ]
     },
     "execution_count": 10,
     "metadata": {},
     "output_type": "execute_result"
    }
   ],
   "source": [
    "tup1*2"
   ]
  },
  {
   "cell_type": "code",
   "execution_count": 11,
   "id": "7213513a",
   "metadata": {},
   "outputs": [
    {
     "data": {
      "text/plain": [
       "(10, 20, 30, 40, 50)"
      ]
     },
     "execution_count": 11,
     "metadata": {},
     "output_type": "execute_result"
    }
   ],
   "source": [
    "tup2=(10,20,30,40,50)\n",
    "tup2"
   ]
  },
  {
   "cell_type": "code",
   "execution_count": 12,
   "id": "71d74cbc",
   "metadata": {},
   "outputs": [
    {
     "data": {
      "text/plain": [
       "tuple"
      ]
     },
     "execution_count": 12,
     "metadata": {},
     "output_type": "execute_result"
    }
   ],
   "source": [
    "#minimum and maximum value in tuple\n",
    "type(tup2)"
   ]
  },
  {
   "cell_type": "code",
   "execution_count": 13,
   "id": "f61e6801",
   "metadata": {},
   "outputs": [
    {
     "data": {
      "text/plain": [
       "10"
      ]
     },
     "execution_count": 13,
     "metadata": {},
     "output_type": "execute_result"
    }
   ],
   "source": [
    "min(tup2)"
   ]
  },
  {
   "cell_type": "code",
   "execution_count": 14,
   "id": "df129b1f",
   "metadata": {},
   "outputs": [
    {
     "data": {
      "text/plain": [
       "50"
      ]
     },
     "execution_count": 14,
     "metadata": {},
     "output_type": "execute_result"
    }
   ],
   "source": [
    "max(tup2)"
   ]
  },
  {
   "cell_type": "markdown",
   "id": "fb84059a",
   "metadata": {},
   "source": [
    "---"
   ]
  },
  {
   "cell_type": "markdown",
   "id": "9ac47673",
   "metadata": {},
   "source": [
    "## 2-List\n",
    "\n",
    " 1- ordered collection of elements\n",
    " \n",
    " 2- enclosed in [ ] braces\n",
    " \n",
    " 3- Mutateable, You can change the values\n"
   ]
  },
  {
   "cell_type": "code",
   "execution_count": 15,
   "id": "24c3adf1",
   "metadata": {},
   "outputs": [
    {
     "data": {
      "text/plain": [
       "[9, 'whtz up', 1.5]"
      ]
     },
     "execution_count": 15,
     "metadata": {},
     "output_type": "execute_result"
    }
   ],
   "source": [
    "list1=[9, 'whtz up', 1.5]\n",
    "list1"
   ]
  },
  {
   "cell_type": "code",
   "execution_count": 16,
   "id": "e6dc9a3e",
   "metadata": {},
   "outputs": [
    {
     "data": {
      "text/plain": [
       "list"
      ]
     },
     "execution_count": 16,
     "metadata": {},
     "output_type": "execute_result"
    }
   ],
   "source": [
    "type(list1)"
   ]
  },
  {
   "cell_type": "code",
   "execution_count": 17,
   "id": "b7e17eff",
   "metadata": {},
   "outputs": [
    {
     "data": {
      "text/plain": [
       "3"
      ]
     },
     "execution_count": 17,
     "metadata": {},
     "output_type": "execute_result"
    }
   ],
   "source": [
    "len(list1)"
   ]
  },
  {
   "cell_type": "code",
   "execution_count": 18,
   "id": "d5377758",
   "metadata": {},
   "outputs": [
    {
     "data": {
      "text/plain": [
       "9"
      ]
     },
     "execution_count": 18,
     "metadata": {},
     "output_type": "execute_result"
    }
   ],
   "source": [
    "list1[0]"
   ]
  },
  {
   "cell_type": "markdown",
   "id": "bfc85834",
   "metadata": {},
   "source": [
    "# Functions in List"
   ]
  },
  {
   "cell_type": "code",
   "execution_count": 45,
   "id": "09afa28c",
   "metadata": {},
   "outputs": [
    {
     "data": {
      "text/plain": [
       "[200, 21.6, 'Hello']"
      ]
     },
     "execution_count": 45,
     "metadata": {},
     "output_type": "execute_result"
    }
   ],
   "source": [
    "list3=[200, 21.6, 'Hello']\n",
    "list3"
   ]
  },
  {
   "cell_type": "code",
   "execution_count": 46,
   "id": "b4d66bb5",
   "metadata": {},
   "outputs": [
    {
     "data": {
      "text/plain": [
       "['Hello', 21.6, 200]"
      ]
     },
     "execution_count": 46,
     "metadata": {},
     "output_type": "execute_result"
    }
   ],
   "source": [
    "list3.reverse()\n",
    "list3"
   ]
  },
  {
   "cell_type": "code",
   "execution_count": 60,
   "id": "7848c9ef",
   "metadata": {},
   "outputs": [
    {
     "data": {
      "text/plain": [
       "['Hello', 21.6, 200, 22, 22, 22, 22, 22, 22, 22, 22, 22, 22, 22, 2, 2]"
      ]
     },
     "execution_count": 60,
     "metadata": {},
     "output_type": "execute_result"
    }
   ],
   "source": [
    "list3.append(2)\n",
    "list3"
   ]
  },
  {
   "cell_type": "code",
   "execution_count": 61,
   "id": "7a9fdfd1",
   "metadata": {},
   "outputs": [
    {
     "data": {
      "text/plain": [
       "['Hello', 21.6, 200, 22, 22, 22, 22, 22, 22, 22, 22, 22, 22, 22, 2, 2]"
      ]
     },
     "execution_count": 61,
     "metadata": {},
     "output_type": "execute_result"
    }
   ],
   "source": [
    "list3"
   ]
  },
  {
   "cell_type": "code",
   "execution_count": 63,
   "id": "4e37c8c0",
   "metadata": {},
   "outputs": [
    {
     "data": {
      "text/plain": [
       "[]"
      ]
     },
     "execution_count": 63,
     "metadata": {},
     "output_type": "execute_result"
    }
   ],
   "source": [
    "list3.clear()\n",
    "list3"
   ]
  },
  {
   "cell_type": "code",
   "execution_count": 64,
   "id": "c2f2cecd",
   "metadata": {},
   "outputs": [
    {
     "data": {
      "text/plain": [
       "[]"
      ]
     },
     "execution_count": 64,
     "metadata": {},
     "output_type": "execute_result"
    }
   ],
   "source": [
    "list3"
   ]
  },
  {
   "cell_type": "code",
   "execution_count": 65,
   "id": "c47d5f36",
   "metadata": {},
   "outputs": [
    {
     "data": {
      "text/plain": [
       "[200, 50.0, 'Hi']"
      ]
     },
     "execution_count": 65,
     "metadata": {},
     "output_type": "execute_result"
    }
   ],
   "source": [
    "list3=[200, 50.0, 'Hi']\n",
    "list3"
   ]
  },
  {
   "cell_type": "code",
   "execution_count": 68,
   "id": "06a94e46",
   "metadata": {},
   "outputs": [
    {
     "data": {
      "text/plain": [
       "[200, 50.0, 'Hi']"
      ]
     },
     "execution_count": 68,
     "metadata": {},
     "output_type": "execute_result"
    }
   ],
   "source": [
    "list3.copy()"
   ]
  },
  {
   "cell_type": "code",
   "execution_count": 69,
   "id": "302abc87",
   "metadata": {},
   "outputs": [
    {
     "data": {
      "text/plain": [
       "[200, 50.0, 'Hi']"
      ]
     },
     "execution_count": 69,
     "metadata": {},
     "output_type": "execute_result"
    }
   ],
   "source": [
    "list3.copy()"
   ]
  },
  {
   "cell_type": "code",
   "execution_count": 70,
   "id": "5ef37b07",
   "metadata": {},
   "outputs": [
    {
     "data": {
      "text/plain": [
       "1"
      ]
     },
     "execution_count": 70,
     "metadata": {},
     "output_type": "execute_result"
    }
   ],
   "source": [
    "list3.count(200)"
   ]
  },
  {
   "cell_type": "code",
   "execution_count": 72,
   "id": "b1030d83",
   "metadata": {},
   "outputs": [
    {
     "data": {
      "text/plain": [
       "0"
      ]
     },
     "execution_count": 72,
     "metadata": {},
     "output_type": "execute_result"
    }
   ],
   "source": [
    "list3.count(1)"
   ]
  },
  {
   "cell_type": "code",
   "execution_count": 81,
   "id": "9db878ef",
   "metadata": {},
   "outputs": [
    {
     "data": {
      "text/plain": [
       "[200, 50.0, 'Hi']"
      ]
     },
     "execution_count": 81,
     "metadata": {},
     "output_type": "execute_result"
    }
   ],
   "source": [
    "list3=[200,50.0, 'Hi']\n",
    "list3"
   ]
  },
  {
   "cell_type": "code",
   "execution_count": 83,
   "id": "db6ead42",
   "metadata": {},
   "outputs": [
    {
     "data": {
      "text/plain": [
       "[200, 50.0, 'Hi', 'W', 'O', 'W', 'W', 'O', 'W']"
      ]
     },
     "execution_count": 83,
     "metadata": {},
     "output_type": "execute_result"
    }
   ],
   "source": [
    "list3.extend('WOW')\n",
    "list3"
   ]
  },
  {
   "cell_type": "code",
   "execution_count": 84,
   "id": "52bef512",
   "metadata": {},
   "outputs": [
    {
     "data": {
      "text/plain": [
       "[200,\n",
       " 50.0,\n",
       " 'Hi',\n",
       " 'W',\n",
       " 'O',\n",
       " 'W',\n",
       " 'W',\n",
       " 'O',\n",
       " 'W',\n",
       " 'w',\n",
       " 'o',\n",
       " 'r',\n",
       " 'l',\n",
       " 'd',\n",
       " ' ',\n",
       " 'w',\n",
       " 'a',\n",
       " 'r',\n",
       " ' ',\n",
       " '2']"
      ]
     },
     "execution_count": 84,
     "metadata": {},
     "output_type": "execute_result"
    }
   ],
   "source": [
    "list3.extend('world war 2')\n",
    "list3"
   ]
  },
  {
   "cell_type": "code",
   "execution_count": 85,
   "id": "40488a1e",
   "metadata": {},
   "outputs": [
    {
     "data": {
      "text/plain": [
       "[200, 50.0, 'hi']"
      ]
     },
     "execution_count": 85,
     "metadata": {},
     "output_type": "execute_result"
    }
   ],
   "source": [
    "list3=[200, 50.0, 'hi']\n",
    "list3"
   ]
  },
  {
   "cell_type": "code",
   "execution_count": 87,
   "id": "9cfb02e8",
   "metadata": {},
   "outputs": [
    {
     "data": {
      "text/plain": [
       "0"
      ]
     },
     "execution_count": 87,
     "metadata": {},
     "output_type": "execute_result"
    }
   ],
   "source": [
    "list3.index(200)"
   ]
  },
  {
   "cell_type": "code",
   "execution_count": 88,
   "id": "5a6f2e34",
   "metadata": {},
   "outputs": [
    {
     "data": {
      "text/plain": [
       "1"
      ]
     },
     "execution_count": 88,
     "metadata": {},
     "output_type": "execute_result"
    }
   ],
   "source": [
    "list3.index(50.0)"
   ]
  },
  {
   "cell_type": "code",
   "execution_count": 89,
   "id": "5d24be89",
   "metadata": {},
   "outputs": [
    {
     "data": {
      "text/plain": [
       "2"
      ]
     },
     "execution_count": 89,
     "metadata": {},
     "output_type": "execute_result"
    }
   ],
   "source": [
    "list3.index('hi')"
   ]
  },
  {
   "cell_type": "code",
   "execution_count": 91,
   "id": "8b2ec249",
   "metadata": {},
   "outputs": [
    {
     "data": {
      "text/plain": [
       "[200, 50.0, 'hi', 220]"
      ]
     },
     "execution_count": 91,
     "metadata": {},
     "output_type": "execute_result"
    }
   ],
   "source": [
    "list3.insert(3,220)\n",
    "list3"
   ]
  },
  {
   "cell_type": "code",
   "execution_count": 92,
   "id": "517c3548",
   "metadata": {},
   "outputs": [
    {
     "data": {
      "text/plain": [
       "[200, 50.0, 'hi', 220, 505]"
      ]
     },
     "execution_count": 92,
     "metadata": {},
     "output_type": "execute_result"
    }
   ],
   "source": [
    "list3.insert(4,505)\n",
    "list3"
   ]
  },
  {
   "cell_type": "code",
   "execution_count": 93,
   "id": "69b169f1",
   "metadata": {},
   "outputs": [
    {
     "data": {
      "text/plain": [
       "[420, 200, 50.0, 'hi', 220, 505]"
      ]
     },
     "execution_count": 93,
     "metadata": {},
     "output_type": "execute_result"
    }
   ],
   "source": [
    "list3.insert(0,420)\n",
    "list3"
   ]
  },
  {
   "cell_type": "code",
   "execution_count": 94,
   "id": "713779f0",
   "metadata": {},
   "outputs": [
    {
     "data": {
      "text/plain": [
       "[420, 200, 50.0, 'hi', 220, 505, 'disorder']"
      ]
     },
     "execution_count": 94,
     "metadata": {},
     "output_type": "execute_result"
    }
   ],
   "source": [
    "list3.insert(7,'disorder')\n",
    "list3"
   ]
  },
  {
   "cell_type": "code",
   "execution_count": 107,
   "id": "92488262",
   "metadata": {},
   "outputs": [
    {
     "data": {
      "text/plain": [
       "[100, 250, 140, 22, 'hi']"
      ]
     },
     "execution_count": 107,
     "metadata": {},
     "output_type": "execute_result"
    }
   ],
   "source": [
    "list3=[100,250,140,22,'hi']\n",
    "list3"
   ]
  },
  {
   "cell_type": "code",
   "execution_count": 108,
   "id": "5c36e41b",
   "metadata": {},
   "outputs": [
    {
     "data": {
      "text/plain": [
       "'hi'"
      ]
     },
     "execution_count": 108,
     "metadata": {},
     "output_type": "execute_result"
    }
   ],
   "source": [
    "list3.pop(4)"
   ]
  },
  {
   "cell_type": "code",
   "execution_count": 109,
   "id": "651be63f",
   "metadata": {},
   "outputs": [
    {
     "data": {
      "text/plain": [
       "100"
      ]
     },
     "execution_count": 109,
     "metadata": {},
     "output_type": "execute_result"
    }
   ],
   "source": [
    "list3.pop(0)"
   ]
  },
  {
   "cell_type": "code",
   "execution_count": 117,
   "id": "86e6fa22",
   "metadata": {},
   "outputs": [
    {
     "data": {
      "text/plain": [
       "[100, 200, 400, 600, 800]"
      ]
     },
     "execution_count": 117,
     "metadata": {},
     "output_type": "execute_result"
    }
   ],
   "source": [
    "list3=[100,200,400,600,800]\n",
    "list3"
   ]
  },
  {
   "cell_type": "code",
   "execution_count": 118,
   "id": "09b43a67",
   "metadata": {},
   "outputs": [
    {
     "data": {
      "text/plain": [
       "[200, 400, 600, 800]"
      ]
     },
     "execution_count": 118,
     "metadata": {},
     "output_type": "execute_result"
    }
   ],
   "source": [
    "list3.remove(100)\n",
    "list3"
   ]
  },
  {
   "cell_type": "code",
   "execution_count": 119,
   "id": "2fc0ea28",
   "metadata": {},
   "outputs": [
    {
     "data": {
      "text/plain": [
       "[800, 600, 400, 200]"
      ]
     },
     "execution_count": 119,
     "metadata": {},
     "output_type": "execute_result"
    }
   ],
   "source": [
    "list3.reverse()\n",
    "list3"
   ]
  },
  {
   "cell_type": "code",
   "execution_count": 122,
   "id": "0e6a9e77",
   "metadata": {},
   "outputs": [
    {
     "data": {
      "text/plain": [
       "[600, 400, 200]"
      ]
     },
     "execution_count": 122,
     "metadata": {},
     "output_type": "execute_result"
    }
   ],
   "source": [
    "list3.pop(0)\n",
    "list3"
   ]
  },
  {
   "cell_type": "code",
   "execution_count": null,
   "id": "28fe6777",
   "metadata": {},
   "outputs": [],
   "source": []
  },
  {
   "cell_type": "code",
   "execution_count": null,
   "id": "1b796fe3",
   "metadata": {},
   "outputs": [],
   "source": []
  },
  {
   "cell_type": "code",
   "execution_count": 21,
   "id": "97647206",
   "metadata": {},
   "outputs": [
    {
     "data": {
      "text/plain": [
       "[1.5, 'whtz up', 9]"
      ]
     },
     "execution_count": 21,
     "metadata": {},
     "output_type": "execute_result"
    }
   ],
   "source": [
    "list1[0:3]"
   ]
  },
  {
   "cell_type": "code",
   "execution_count": 22,
   "id": "c1a7ac76",
   "metadata": {},
   "outputs": [
    {
     "data": {
      "text/plain": [
       "[1.5, 'whtz up', 9, 1.5, 'whtz up', 9]"
      ]
     },
     "execution_count": 22,
     "metadata": {},
     "output_type": "execute_result"
    }
   ],
   "source": [
    "list1*2"
   ]
  },
  {
   "cell_type": "code",
   "execution_count": 23,
   "id": "1f9e2ca4",
   "metadata": {},
   "outputs": [
    {
     "data": {
      "text/plain": [
       "[10, 20, 'hello world', 0.5]"
      ]
     },
     "execution_count": 23,
     "metadata": {},
     "output_type": "execute_result"
    }
   ],
   "source": [
    "list2=[10, 20, 'hello world', 0.5]\n",
    "list2"
   ]
  },
  {
   "cell_type": "code",
   "execution_count": 24,
   "id": "a26fb6ef",
   "metadata": {},
   "outputs": [
    {
     "data": {
      "text/plain": [
       "[1.5, 'whtz up', 9, 10, 20, 'hello world', 0.5]"
      ]
     },
     "execution_count": 24,
     "metadata": {},
     "output_type": "execute_result"
    }
   ],
   "source": [
    "list1 + list2"
   ]
  },
  {
   "cell_type": "code",
   "execution_count": 25,
   "id": "b683d34f",
   "metadata": {},
   "outputs": [
    {
     "data": {
      "text/plain": [
       "[1.5, 'whtz up', 9]"
      ]
     },
     "execution_count": 25,
     "metadata": {},
     "output_type": "execute_result"
    }
   ],
   "source": [
    "list1"
   ]
  },
  {
   "cell_type": "code",
   "execution_count": 26,
   "id": "7f1cff49",
   "metadata": {},
   "outputs": [
    {
     "data": {
      "text/plain": [
       "[9, 'whtz up', 1.5]"
      ]
     },
     "execution_count": 26,
     "metadata": {},
     "output_type": "execute_result"
    }
   ],
   "source": [
    "list1.reverse()\n",
    "list1"
   ]
  },
  {
   "cell_type": "code",
   "execution_count": 27,
   "id": "41871083",
   "metadata": {},
   "outputs": [
    {
     "data": {
      "text/plain": [
       "[9, 'whtz up', 1.5]"
      ]
     },
     "execution_count": 27,
     "metadata": {},
     "output_type": "execute_result"
    }
   ],
   "source": [
    "list1.count(int)\n",
    "list1"
   ]
  },
  {
   "cell_type": "code",
   "execution_count": 28,
   "id": "321ea2f9",
   "metadata": {},
   "outputs": [
    {
     "data": {
      "text/plain": [
       "0"
      ]
     },
     "execution_count": 28,
     "metadata": {},
     "output_type": "execute_result"
    }
   ],
   "source": [
    "list1.count('hi')"
   ]
  },
  {
   "cell_type": "markdown",
   "id": "6888e176",
   "metadata": {},
   "source": [
    "# Dictionaries\n",
    "\n",
    "1- An unordered collection of elements\n",
    "\n",
    "2- Key and value\n",
    "\n",
    "3- enclosed in {}\n",
    "\n",
    "4- Muteteable/ change the value"
   ]
  },
  {
   "cell_type": "code",
   "execution_count": 29,
   "id": "dcc04bb3",
   "metadata": {},
   "outputs": [
    {
     "data": {
      "text/plain": [
       "{'Samosa': 40, 'Pakora': 100, 'Raita': 20, 'Cheicken Rool': 60}"
      ]
     },
     "execution_count": 29,
     "metadata": {},
     "output_type": "execute_result"
    }
   ],
   "source": [
    "# Food and their prices\n",
    "d1 = {'Samosa':40, 'Pakora':100, 'Raita':20, 'Cheicken Rool':60}\n",
    "d1"
   ]
  },
  {
   "cell_type": "code",
   "execution_count": 30,
   "id": "a09038eb",
   "metadata": {},
   "outputs": [
    {
     "data": {
      "text/plain": [
       "dict"
      ]
     },
     "execution_count": 30,
     "metadata": {},
     "output_type": "execute_result"
    }
   ],
   "source": [
    "type(d1)"
   ]
  },
  {
   "cell_type": "code",
   "execution_count": 31,
   "id": "45d408a8",
   "metadata": {},
   "outputs": [
    {
     "data": {
      "text/plain": [
       "dict_keys(['Samosa', 'Pakora', 'Raita', 'Cheicken Rool'])"
      ]
     },
     "execution_count": 31,
     "metadata": {},
     "output_type": "execute_result"
    }
   ],
   "source": [
    "# extract data\n",
    "k1= d1.keys()\n",
    "k1"
   ]
  },
  {
   "cell_type": "code",
   "execution_count": 32,
   "id": "1d7e5165",
   "metadata": {},
   "outputs": [
    {
     "data": {
      "text/plain": [
       "dict_values([40, 100, 20, 60])"
      ]
     },
     "execution_count": 32,
     "metadata": {},
     "output_type": "execute_result"
    }
   ],
   "source": [
    "v1=d1.values()\n",
    "v1"
   ]
  },
  {
   "cell_type": "code",
   "execution_count": 33,
   "id": "244ed4a7",
   "metadata": {},
   "outputs": [
    {
     "data": {
      "text/plain": [
       "{'Samosa': 40, 'Pakora': 100, 'Raita': 20, 'Cheicken Rool': 60, 'Tikki': 15}"
      ]
     },
     "execution_count": 33,
     "metadata": {},
     "output_type": "execute_result"
    }
   ],
   "source": [
    "# Adding new element\n",
    "d1['Tikki']=15\n",
    "d1"
   ]
  },
  {
   "cell_type": "code",
   "execution_count": 34,
   "id": "60d97b3f",
   "metadata": {},
   "outputs": [],
   "source": [
    "# d1.update(\"chatt\":2)\n",
    "# d1"
   ]
  },
  {
   "cell_type": "code",
   "execution_count": 35,
   "id": "09efcb1a",
   "metadata": {},
   "outputs": [
    {
     "data": {
      "text/plain": [
       "{'Samosa': 40, 'Pakora': 100, 'Raita': 20, 'Cheicken Rool': 60, 'Tikki': 25}"
      ]
     },
     "execution_count": 35,
     "metadata": {},
     "output_type": "execute_result"
    }
   ],
   "source": [
    "# Update a value\n",
    "d1['Tikki']=25\n",
    "d1"
   ]
  },
  {
   "cell_type": "code",
   "execution_count": 36,
   "id": "f620f898",
   "metadata": {},
   "outputs": [
    {
     "data": {
      "text/plain": [
       "{'Samosa': 40,\n",
       " 'Pakora': 100,\n",
       " 'Raita': 20,\n",
       " 'Cheicken Rool': 60,\n",
       " 'Tikki': 25,\n",
       " 'Chatt': 120}"
      ]
     },
     "execution_count": 36,
     "metadata": {},
     "output_type": "execute_result"
    }
   ],
   "source": [
    "d1['Chatt']=120\n",
    "d1"
   ]
  },
  {
   "cell_type": "code",
   "execution_count": 37,
   "id": "43f6ac80",
   "metadata": {},
   "outputs": [
    {
     "data": {
      "text/plain": [
       "{'Dates': 300, 'Sawayann': 250, 'Coke': 450}"
      ]
     },
     "execution_count": 37,
     "metadata": {},
     "output_type": "execute_result"
    }
   ],
   "source": [
    "# Concatinate\n",
    "d2={'Dates':300, 'Sawayann':250, 'Coke':450}\n",
    "d2"
   ]
  },
  {
   "cell_type": "code",
   "execution_count": 38,
   "id": "6e1793f4",
   "metadata": {},
   "outputs": [],
   "source": [
    "# d1 + d2"
   ]
  },
  {
   "cell_type": "code",
   "execution_count": 39,
   "id": "57e2bb74",
   "metadata": {},
   "outputs": [
    {
     "data": {
      "text/plain": [
       "{'Samosa': 40,\n",
       " 'Pakora': 100,\n",
       " 'Raita': 20,\n",
       " 'Cheicken Rool': 60,\n",
       " 'Tikki': 25,\n",
       " 'Chatt': 120,\n",
       " 'Dates': 300,\n",
       " 'Sawayann': 250,\n",
       " 'Coke': 450}"
      ]
     },
     "execution_count": 39,
     "metadata": {},
     "output_type": "execute_result"
    }
   ],
   "source": [
    "d1.update(d2)\n",
    "d1"
   ]
  },
  {
   "cell_type": "markdown",
   "id": "a51eb8f3",
   "metadata": {},
   "source": [
    "# Functions in Dictioneries"
   ]
  },
  {
   "cell_type": "code",
   "execution_count": 123,
   "id": "ee44b7f7",
   "metadata": {},
   "outputs": [
    {
     "data": {
      "text/plain": [
       "{'samosa': 40, 'pakora': 100, 'fruit chat': 120, 'Dahi Bhally': 100}"
      ]
     },
     "execution_count": 123,
     "metadata": {},
     "output_type": "execute_result"
    }
   ],
   "source": [
    "d3={'samosa':40, 'pakora':100, 'fruit chat':120, 'Dahi Bhally':100}\n",
    "d3"
   ]
  },
  {
   "cell_type": "code",
   "execution_count": 124,
   "id": "4a888b57",
   "metadata": {},
   "outputs": [
    {
     "data": {
      "text/plain": [
       "dict"
      ]
     },
     "execution_count": 124,
     "metadata": {},
     "output_type": "execute_result"
    }
   ],
   "source": [
    "type(d3)"
   ]
  },
  {
   "cell_type": "code",
   "execution_count": 125,
   "id": "c4642384",
   "metadata": {},
   "outputs": [
    {
     "data": {
      "text/plain": [
       "{}"
      ]
     },
     "execution_count": 125,
     "metadata": {},
     "output_type": "execute_result"
    }
   ],
   "source": [
    "d3.clear()\n",
    "d3"
   ]
  },
  {
   "cell_type": "code",
   "execution_count": 127,
   "id": "e32a49f0",
   "metadata": {},
   "outputs": [
    {
     "data": {
      "text/plain": [
       "{'samosa': 40, 'pakora': 100, 'fruit chat': 120, 'Dahi Bhally': 100}"
      ]
     },
     "execution_count": 127,
     "metadata": {},
     "output_type": "execute_result"
    }
   ],
   "source": [
    "d3={'samosa':40, 'pakora':100, 'fruit chat':120, 'Dahi Bhally':100}\n",
    "d3"
   ]
  },
  {
   "cell_type": "code",
   "execution_count": 129,
   "id": "8708b602",
   "metadata": {},
   "outputs": [
    {
     "data": {
      "text/plain": [
       "{'samosa': 40, 'pakora': 100, 'fruit chat': 120, 'Dahi Bhally': 100}"
      ]
     },
     "execution_count": 129,
     "metadata": {},
     "output_type": "execute_result"
    }
   ],
   "source": [
    "d3.copy()"
   ]
  },
  {
   "cell_type": "code",
   "execution_count": 157,
   "id": "ba5fe678",
   "metadata": {},
   "outputs": [
    {
     "data": {
      "text/plain": [
       "{'ali': 10, 'hamza': 10, 'khan': 10, 'ab': 10}"
      ]
     },
     "execution_count": 157,
     "metadata": {},
     "output_type": "execute_result"
    }
   ],
   "source": [
    "d4=d3.fromkeys(['ali', 'hamza', 'khan', 'ab'], 10,)\n",
    "d4"
   ]
  },
  {
   "cell_type": "code",
   "execution_count": 184,
   "id": "fe9b7dd5",
   "metadata": {},
   "outputs": [
    {
     "data": {
      "text/plain": [
       "{'age', 'city', 'country', 'name'}"
      ]
     },
     "execution_count": 184,
     "metadata": {},
     "output_type": "execute_result"
    }
   ],
   "source": [
    "# bio={'name', 'age', 'city', 'country'}\n",
    "# bio"
   ]
  },
  {
   "cell_type": "code",
   "execution_count": 185,
   "id": "93d01f9e",
   "metadata": {},
   "outputs": [
    {
     "data": {
      "text/plain": [
       "set"
      ]
     },
     "execution_count": 185,
     "metadata": {},
     "output_type": "execute_result"
    }
   ],
   "source": [
    "# type(bio)"
   ]
  },
  {
   "cell_type": "code",
   "execution_count": 159,
   "id": "512e27d4",
   "metadata": {},
   "outputs": [
    {
     "data": {
      "text/plain": [
       "{'name': 'hii', 'age': 'hii', 'city': 'hii', 'country': 'hii'}"
      ]
     },
     "execution_count": 159,
     "metadata": {},
     "output_type": "execute_result"
    }
   ],
   "source": [
    "bio1=dict.fromkeys(bio,'hii')\n",
    "bio1"
   ]
  },
  {
   "cell_type": "code",
   "execution_count": 160,
   "id": "ba39edc5",
   "metadata": {},
   "outputs": [
    {
     "data": {
      "text/plain": [
       "{'samosa': 40, 'pakora': 100, 'fruit chat': 120, 'Dahi Bhally': 100}"
      ]
     },
     "execution_count": 160,
     "metadata": {},
     "output_type": "execute_result"
    }
   ],
   "source": [
    "d3"
   ]
  },
  {
   "cell_type": "code",
   "execution_count": 173,
   "id": "aadfb418",
   "metadata": {},
   "outputs": [
    {
     "data": {
      "text/plain": [
       "40"
      ]
     },
     "execution_count": 173,
     "metadata": {},
     "output_type": "execute_result"
    }
   ],
   "source": [
    "d3.get('samosa')"
   ]
  },
  {
   "cell_type": "code",
   "execution_count": 178,
   "id": "fbcb590c",
   "metadata": {},
   "outputs": [
    {
     "data": {
      "text/plain": [
       "dict_items([('samosa', 40), ('pakora', 100), ('fruit chat', 120), ('Dahi Bhally', 100)])"
      ]
     },
     "execution_count": 178,
     "metadata": {},
     "output_type": "execute_result"
    }
   ],
   "source": [
    "# d4=d3.items()\n",
    "# d4"
   ]
  },
  {
   "cell_type": "code",
   "execution_count": 187,
   "id": "f9994123",
   "metadata": {},
   "outputs": [
    {
     "data": {
      "text/plain": [
       "dict_keys(['samosa', 'pakora', 'fruit chat', 'Dahi Bhally'])"
      ]
     },
     "execution_count": 187,
     "metadata": {},
     "output_type": "execute_result"
    }
   ],
   "source": [
    "d3.keys()"
   ]
  },
  {
   "cell_type": "code",
   "execution_count": 188,
   "id": "c7918df6",
   "metadata": {},
   "outputs": [
    {
     "data": {
      "text/plain": [
       "{'samosa': 40, 'pakora': 100, 'fruit chat': 120, 'Dahi Bhally': 100}"
      ]
     },
     "execution_count": 188,
     "metadata": {},
     "output_type": "execute_result"
    }
   ],
   "source": [
    "d3"
   ]
  },
  {
   "cell_type": "code",
   "execution_count": 191,
   "id": "f03c6c83",
   "metadata": {},
   "outputs": [
    {
     "data": {
      "text/plain": [
       "40"
      ]
     },
     "execution_count": 191,
     "metadata": {},
     "output_type": "execute_result"
    }
   ],
   "source": [
    "d3.pop('samosa')"
   ]
  },
  {
   "cell_type": "code",
   "execution_count": 192,
   "id": "9b083286",
   "metadata": {},
   "outputs": [
    {
     "data": {
      "text/plain": [
       "{'pakora': 100, 'fruit chat': 120, 'Dahi Bhally': 100}"
      ]
     },
     "execution_count": 192,
     "metadata": {},
     "output_type": "execute_result"
    }
   ],
   "source": [
    "d3"
   ]
  },
  {
   "cell_type": "code",
   "execution_count": 197,
   "id": "ff07ee26",
   "metadata": {},
   "outputs": [
    {
     "data": {
      "text/plain": [
       "{'fruit chat': 120, 'Dahi Bhally': 100}"
      ]
     },
     "execution_count": 197,
     "metadata": {},
     "output_type": "execute_result"
    }
   ],
   "source": [
    "d3.pop('pakora','fruit chat')\n",
    "d3"
   ]
  },
  {
   "cell_type": "code",
   "execution_count": 198,
   "id": "1bfaea2c",
   "metadata": {},
   "outputs": [
    {
     "data": {
      "text/plain": [
       "{'samosa': 40, 'pakora': 100, 'fruit chat': 120, 'Dahi Bhally': 100}"
      ]
     },
     "execution_count": 198,
     "metadata": {},
     "output_type": "execute_result"
    }
   ],
   "source": [
    "d3={'samosa': 40, 'pakora': 100, 'fruit chat': 120, 'Dahi Bhally': 100}\n",
    "d3"
   ]
  },
  {
   "cell_type": "code",
   "execution_count": 199,
   "id": "75ec9025",
   "metadata": {},
   "outputs": [
    {
     "data": {
      "text/plain": [
       "('Dahi Bhally', 100)"
      ]
     },
     "execution_count": 199,
     "metadata": {},
     "output_type": "execute_result"
    }
   ],
   "source": [
    "d3.popitem()"
   ]
  },
  {
   "cell_type": "code",
   "execution_count": 200,
   "id": "076767d9",
   "metadata": {},
   "outputs": [
    {
     "data": {
      "text/plain": [
       "{'samosa': 40, 'pakora': 100, 'fruit chat': 120}"
      ]
     },
     "execution_count": 200,
     "metadata": {},
     "output_type": "execute_result"
    }
   ],
   "source": [
    "d3"
   ]
  },
  {
   "cell_type": "code",
   "execution_count": 201,
   "id": "47ffb8cd",
   "metadata": {},
   "outputs": [
    {
     "data": {
      "text/plain": [
       "('fruit chat', 120)"
      ]
     },
     "execution_count": 201,
     "metadata": {},
     "output_type": "execute_result"
    }
   ],
   "source": [
    "d3.popitem()"
   ]
  },
  {
   "cell_type": "code",
   "execution_count": 202,
   "id": "d7cd04f1",
   "metadata": {},
   "outputs": [
    {
     "data": {
      "text/plain": [
       "('pakora', 100)"
      ]
     },
     "execution_count": 202,
     "metadata": {},
     "output_type": "execute_result"
    }
   ],
   "source": [
    "d3.popitem()"
   ]
  },
  {
   "cell_type": "code",
   "execution_count": 203,
   "id": "9e484379",
   "metadata": {},
   "outputs": [
    {
     "data": {
      "text/plain": [
       "{'samosa': 40, 'pakora': 100, 'fruit chat': 120, 'Dahi Bhally': 100}"
      ]
     },
     "execution_count": 203,
     "metadata": {},
     "output_type": "execute_result"
    }
   ],
   "source": [
    "d3={'samosa': 40, 'pakora': 100, 'fruit chat': 120, 'Dahi Bhally': 100}\n",
    "d3"
   ]
  },
  {
   "cell_type": "code",
   "execution_count": 205,
   "id": "85fcaf1e",
   "metadata": {},
   "outputs": [
    {
     "data": {
      "text/plain": [
       "{'samosa': 40, 'pakora': 100, 'fruit chat': 120, 'Dahi Bhally': 100, 11: None}"
      ]
     },
     "execution_count": 205,
     "metadata": {},
     "output_type": "execute_result"
    }
   ],
   "source": [
    "d3.setdefault(11)\n",
    "d3"
   ]
  },
  {
   "cell_type": "code",
   "execution_count": 206,
   "id": "f5b2f7e6",
   "metadata": {},
   "outputs": [
    {
     "data": {
      "text/plain": [
       "{'samosa': 40, 'pakora': 100, 'fruit chat': 120, 'Dahi Bhally': 100}"
      ]
     },
     "execution_count": 206,
     "metadata": {},
     "output_type": "execute_result"
    }
   ],
   "source": [
    "d3.pop(11)\n",
    "d3"
   ]
  },
  {
   "cell_type": "code",
   "execution_count": 214,
   "id": "d5d2e5f7",
   "metadata": {},
   "outputs": [
    {
     "data": {
      "text/plain": [
       "{'samosa': 40,\n",
       " 'pakora': 100,\n",
       " 'fruit chat': 120,\n",
       " 'Dahi Bhally': 100,\n",
       " 'slulu': None,\n",
       " 10: None,\n",
       " False: None}"
      ]
     },
     "execution_count": 214,
     "metadata": {},
     "output_type": "execute_result"
    }
   ],
   "source": [
    "d3.setdefault('samosa'==40, 'pakora'==100)\n",
    "d3"
   ]
  },
  {
   "cell_type": "code",
   "execution_count": 215,
   "id": "ec5b298a",
   "metadata": {},
   "outputs": [
    {
     "data": {
      "text/plain": [
       "{'samosa': 40, 'pakora': 100, 'fruit chat': 120, 'Dahi Bhally': 100}"
      ]
     },
     "execution_count": 215,
     "metadata": {},
     "output_type": "execute_result"
    }
   ],
   "source": [
    "d3={'samosa': 40, 'pakora': 100, 'fruit chat': 120, 'Dahi Bhally': 100}\n",
    "d3"
   ]
  },
  {
   "cell_type": "code",
   "execution_count": 216,
   "id": "cf7929c4",
   "metadata": {},
   "outputs": [
    {
     "data": {
      "text/plain": [
       "{'date': 1, 'papu': 11}"
      ]
     },
     "execution_count": 216,
     "metadata": {},
     "output_type": "execute_result"
    }
   ],
   "source": [
    "d5={'date':1, 'papu':11}\n",
    "d5"
   ]
  },
  {
   "cell_type": "code",
   "execution_count": 217,
   "id": "fc259a1b",
   "metadata": {},
   "outputs": [
    {
     "data": {
      "text/plain": [
       "{'samosa': 40,\n",
       " 'pakora': 100,\n",
       " 'fruit chat': 120,\n",
       " 'Dahi Bhally': 100,\n",
       " 'date': 1,\n",
       " 'papu': 11}"
      ]
     },
     "execution_count": 217,
     "metadata": {},
     "output_type": "execute_result"
    }
   ],
   "source": [
    "d3.update(d5)\n",
    "d3"
   ]
  },
  {
   "cell_type": "code",
   "execution_count": null,
   "id": "93b1818c",
   "metadata": {},
   "outputs": [],
   "source": []
  },
  {
   "cell_type": "code",
   "execution_count": null,
   "id": "e96d7fe0",
   "metadata": {},
   "outputs": [],
   "source": []
  },
  {
   "cell_type": "markdown",
   "id": "5489fc7c",
   "metadata": {},
   "source": [
    "# Sets\n",
    "\n",
    "1- unordered and unindex elements\n",
    "\n",
    "2- {}\n",
    "\n",
    "3- No duplicate allowed"
   ]
  },
  {
   "cell_type": "code",
   "execution_count": 40,
   "id": "0ae33686",
   "metadata": {},
   "outputs": [
    {
     "data": {
      "text/plain": [
       "{155, 20, 40.5, 'Nasrullah', True}"
      ]
     },
     "execution_count": 40,
     "metadata": {},
     "output_type": "execute_result"
    }
   ],
   "source": [
    "s1={20, 40.5, 155, \"Nasrullah\", True}\n",
    "s1"
   ]
  },
  {
   "cell_type": "code",
   "execution_count": 41,
   "id": "ae1bc95c",
   "metadata": {},
   "outputs": [
    {
     "data": {
      "text/plain": [
       "set"
      ]
     },
     "execution_count": 41,
     "metadata": {},
     "output_type": "execute_result"
    }
   ],
   "source": [
    "type(s1)"
   ]
  },
  {
   "cell_type": "code",
   "execution_count": 42,
   "id": "9ec96d55",
   "metadata": {},
   "outputs": [
    {
     "data": {
      "text/plain": [
       "{155, 20, 40.5, 'Nasrullah', True}"
      ]
     },
     "execution_count": 42,
     "metadata": {},
     "output_type": "execute_result"
    }
   ],
   "source": [
    "s1.add('Nasrullah')\n",
    "s1"
   ]
  },
  {
   "cell_type": "code",
   "execution_count": 43,
   "id": "cb0cdeb5",
   "metadata": {},
   "outputs": [
    {
     "data": {
      "text/plain": [
       "{155, 20, 40.5, 'Nasrullah'}"
      ]
     },
     "execution_count": 43,
     "metadata": {},
     "output_type": "execute_result"
    }
   ],
   "source": [
    "s1.remove(True)\n",
    "s1"
   ]
  },
  {
   "cell_type": "code",
   "execution_count": 44,
   "id": "db0aa87f",
   "metadata": {},
   "outputs": [
    {
     "data": {
      "text/plain": [
       "{155, 20, 40.5, False, 'Nasrullah'}"
      ]
     },
     "execution_count": 44,
     "metadata": {},
     "output_type": "execute_result"
    }
   ],
   "source": [
    "s1.add(False)\n",
    "s1"
   ]
  },
  {
   "cell_type": "code",
   "execution_count": null,
   "id": "3a85b1ef",
   "metadata": {},
   "outputs": [],
   "source": []
  },
  {
   "cell_type": "code",
   "execution_count": null,
   "id": "c99fa9fd",
   "metadata": {},
   "outputs": [],
   "source": []
  },
  {
   "cell_type": "code",
   "execution_count": null,
   "id": "6c763171",
   "metadata": {},
   "outputs": [],
   "source": []
  },
  {
   "cell_type": "code",
   "execution_count": null,
   "id": "0b410c2f",
   "metadata": {},
   "outputs": [],
   "source": []
  },
  {
   "cell_type": "code",
   "execution_count": null,
   "id": "f2cba4c8",
   "metadata": {},
   "outputs": [],
   "source": []
  },
  {
   "cell_type": "code",
   "execution_count": null,
   "id": "2b9ab9d4",
   "metadata": {},
   "outputs": [],
   "source": []
  },
  {
   "cell_type": "code",
   "execution_count": null,
   "id": "96dc895b",
   "metadata": {},
   "outputs": [],
   "source": []
  }
 ],
 "metadata": {
  "kernelspec": {
   "display_name": "Python 3 (ipykernel)",
   "language": "python",
   "name": "python3"
  },
  "language_info": {
   "codemirror_mode": {
    "name": "ipython",
    "version": 3
   },
   "file_extension": ".py",
   "mimetype": "text/x-python",
   "name": "python",
   "nbconvert_exporter": "python",
   "pygments_lexer": "ipython3",
   "version": "3.9.7"
  }
 },
 "nbformat": 4,
 "nbformat_minor": 5
}
