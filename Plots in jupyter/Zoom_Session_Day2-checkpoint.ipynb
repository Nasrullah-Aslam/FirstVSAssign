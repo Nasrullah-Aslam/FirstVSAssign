{
 "cells": [
  {
   "cell_type": "code",
   "execution_count": 1,
   "id": "d66e9ee3",
   "metadata": {},
   "outputs": [],
   "source": [
    "# Calculate Body Mass Index(BMI)\n",
    "# w=input('What is your Weight in kg? ')\n",
    "\n"
   ]
  },
  {
   "cell_type": "code",
   "execution_count": 2,
   "id": "91641ad9",
   "metadata": {},
   "outputs": [],
   "source": [
    "# w=float(w)"
   ]
  },
  {
   "cell_type": "code",
   "execution_count": 3,
   "id": "9829bfb4",
   "metadata": {},
   "outputs": [],
   "source": [
    "# h=input('What is your Height in meter? ')"
   ]
  },
  {
   "cell_type": "code",
   "execution_count": 4,
   "id": "0f42e9f6",
   "metadata": {},
   "outputs": [],
   "source": [
    "# h=float(h)"
   ]
  },
  {
   "cell_type": "code",
   "execution_count": 5,
   "id": "b455e00c",
   "metadata": {},
   "outputs": [],
   "source": [
    "# BMI=w/h**2\n",
    "# BMI"
   ]
  },
  {
   "cell_type": "code",
   "execution_count": 6,
   "id": "c32cbf9a",
   "metadata": {},
   "outputs": [],
   "source": [
    "# print('Your weight is ', BMI)"
   ]
  },
  {
   "cell_type": "markdown",
   "id": "208689d4",
   "metadata": {},
   "source": [
    "---"
   ]
  },
  {
   "cell_type": "code",
   "execution_count": 7,
   "id": "65fbbb13",
   "metadata": {},
   "outputs": [],
   "source": [
    "import seaborn as sns"
   ]
  },
  {
   "cell_type": "code",
   "execution_count": 8,
   "id": "d329626e",
   "metadata": {},
   "outputs": [],
   "source": [
    "import matplotlib.pyplot as plt"
   ]
  },
  {
   "cell_type": "code",
   "execution_count": 9,
   "id": "8d14e423",
   "metadata": {},
   "outputs": [],
   "source": [
    "sns.set_theme(style='ticks', color_codes=True)"
   ]
  },
  {
   "cell_type": "code",
   "execution_count": 10,
   "id": "40e288b7",
   "metadata": {},
   "outputs": [],
   "source": [
    "titanic= sns.load_dataset('titanic')"
   ]
  },
  {
   "cell_type": "code",
   "execution_count": 11,
   "id": "1fb0d1bb",
   "metadata": {},
   "outputs": [
    {
     "data": {
      "text/plain": [
       "<seaborn.axisgrid.FacetGrid at 0x23f30bee220>"
      ]
     },
     "execution_count": 11,
     "metadata": {},
     "output_type": "execute_result"
    },
    {
     "data": {
      "image/png": "[encoded data removed]",
      "text/plain": [
       "<Figure size 436.975x360 with 1 Axes>"
      ]
     },
     "metadata": {},
     "output_type": "display_data"
    }
   ],
   "source": [
    "sns.catplot(x='sex', y='survived', hue='class', kind='bar', data=titanic)"
   ]
  },
  {
   "cell_type": "code",
   "execution_count": 12,
   "id": "d551c0a5",
   "metadata": {},
   "outputs": [],
   "source": [
    "plt.show()"
   ]
  }
 ],
 "metadata": {
  "kernelspec": {
   "display_name": "Python 3 (ipykernel)",
   "language": "python",
   "name": "python3"
  },
  "language_info": {
   "codemirror_mode": {
    "name": "ipython",
    "version": 3
   },
   "file_extension": ".py",
   "mimetype": "text/x-python",
   "name": "python",
   "nbconvert_exporter": "python",
   "pygments_lexer": "ipython3",
   "version": "3.9.7"
  }
 },
 "nbformat": 4,
 "nbformat_minor": 5
}
