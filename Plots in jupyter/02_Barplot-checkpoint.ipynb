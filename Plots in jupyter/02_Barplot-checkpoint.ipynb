{
 "cells": [
  {
   "cell_type": "code",
   "execution_count": null,
   "id": "b3803600",
   "metadata": {
    "scrolled": true
   },
   "outputs": [],
   "source": [
    "# Import libraries\n",
    "import seaborn as sns\n",
    "import matplotlib.pyplot as plt\n",
    "\n",
    "# Load Data\n",
    "phool=sns.load_dataset('iris')\n",
    "phool\n",
    "\n",
    "# Draw a line plot\n",
    "\n",
    "sns.barplot(x='species', y='sepal_width', data=phool)\n",
    "plt.show()"
   ]
  },
  {
   "cell_type": "code",
   "execution_count": null,
   "id": "12f710ee",
   "metadata": {},
   "outputs": [],
   "source": [
    "phool"
   ]
  },
  {
   "cell_type": "code",
   "execution_count": null,
   "id": "434a4a30",
   "metadata": {
    "scrolled": true
   },
   "outputs": [],
   "source": [
    "# Import libraries\n",
    "import seaborn as sns\n",
    "import matplotlib.pyplot as plt\n",
    "\n",
    "# Load Data\n",
    "phool=sns.load_dataset('iris')\n",
    "phool\n",
    "\n",
    "# Draw a line plot\n",
    "\n",
    "sns.barplot(x='species', y='sepal_length', data=phool)\n",
    "plt.show()"
   ]
  },
  {
   "cell_type": "markdown",
   "id": "02ca3d78",
   "metadata": {},
   "source": [
    "## Grouping "
   ]
  },
  {
   "cell_type": "code",
   "execution_count": null,
   "id": "dde8f68e",
   "metadata": {
    "scrolled": true
   },
   "outputs": [],
   "source": [
    "# Import libraries\n",
    "import seaborn as sns\n",
    "import matplotlib.pyplot as plt\n",
    "\n",
    "# Load Data\n",
    "kashti=sns.load_dataset('titanic')\n",
    "kashti"
   ]
  },
  {
   "cell_type": "code",
   "execution_count": null,
   "id": "f3dee9b3",
   "metadata": {
    "scrolled": true
   },
   "outputs": [],
   "source": [
    "# Import libraries\n",
    "import seaborn as sns\n",
    "import matplotlib.pyplot as plt\n",
    "\n",
    "# Load Data\n",
    "kashti=sns.load_dataset('titanic')\n",
    "kashti\n",
    "\n",
    "# Draw a Bar plot\n",
    "\n",
    "sns.barplot(x='who', y='alone', hue='sex', data=kashti)\n",
    "plt.show()"
   ]
  },
  {
   "cell_type": "code",
   "execution_count": null,
   "id": "e1069b89",
   "metadata": {},
   "outputs": [],
   "source": [
    "# Import libraries\n",
    "import seaborn as sns\n",
    "import matplotlib.pyplot as plt\n",
    "\n",
    "# Load Data\n",
    "kashti=sns.load_dataset('titanic')\n",
    "kashti\n",
    "\n",
    "# Draw a Bar plot\n",
    "\n",
    "sns.barplot(x='who', y='alone', data=kashti)\n",
    "plt.show()"
   ]
  },
  {
   "cell_type": "code",
   "execution_count": null,
   "id": "0deb06d2",
   "metadata": {},
   "outputs": [],
   "source": [
    "# Import libraries\n",
    "import seaborn as sns\n",
    "import matplotlib.pyplot as plt\n",
    "\n",
    "# Load Data\n",
    "kashti=sns.load_dataset('titanic')\n",
    "kashti\n",
    "\n",
    "# Draw a Bar plot\n",
    "\n",
    "sns.barplot(x='sex', y='alone', hue='who', data=kashti)\n",
    "plt.show()"
   ]
  },
  {
   "cell_type": "code",
   "execution_count": null,
   "id": "6f1ead26",
   "metadata": {},
   "outputs": [],
   "source": [
    "# Orders\n",
    "# Import libraries\n",
    "import seaborn as sns\n",
    "import matplotlib.pyplot as plt\n",
    "\n",
    "# Load Data\n",
    "kashti=sns.load_dataset('titanic')\n",
    "kashti\n",
    "\n",
    "# Draw a Bar plot\n",
    "\n",
    "sns.barplot(x='sex', y='alone', hue='who', order=('female','male'), data=kashti)\n",
    "plt.show()"
   ]
  },
  {
   "cell_type": "markdown",
   "id": "6e0b3eb2",
   "metadata": {},
   "source": [
    "## Colors"
   ]
  },
  {
   "cell_type": "code",
   "execution_count": null,
   "id": "51e189c0",
   "metadata": {
    "scrolled": true
   },
   "outputs": [],
   "source": [
    "\n",
    "# Import libraries\n",
    "import seaborn as sns\n",
    "import matplotlib.pyplot as plt\n",
    "\n",
    "# Load Data\n",
    "kashti=sns.load_dataset('titanic')\n",
    "kashti\n",
    "\n",
    "# Draw a Bar plot\n",
    "\n",
    "sns.barplot(x='sex', y='alone', hue='who', data=kashti, order=('female','male'), color='red')\n",
    "plt.show()"
   ]
  },
  {
   "cell_type": "markdown",
   "id": "7492a38f",
   "metadata": {},
   "source": [
    "## Confidence Interval"
   ]
  },
  {
   "cell_type": "code",
   "execution_count": null,
   "id": "6e054cfa",
   "metadata": {},
   "outputs": [],
   "source": [
    "# Import libraries\n",
    "import seaborn as sns\n",
    "import matplotlib.pyplot as plt\n",
    "\n",
    "# Load Data\n",
    "kashti=sns.load_dataset('titanic')\n",
    "kashti\n",
    "\n",
    "# Draw a Bar plot\n",
    "\n",
    "sns.barplot(x='sex', y='alone', hue='who', data=kashti, order=('female','male'), color='red', ci=None)\n",
    "plt.show()"
   ]
  },
  {
   "cell_type": "markdown",
   "id": "0c607281",
   "metadata": {},
   "source": [
    "# Estimator"
   ]
  },
  {
   "cell_type": "code",
   "execution_count": null,
   "id": "b95000bf",
   "metadata": {
    "scrolled": true
   },
   "outputs": [],
   "source": [
    "# Import Libraries\n",
    "import seaborn as sns\n",
    "import matplotlib.pyplot as plt\n",
    "from numpy import median\n",
    "\n",
    "# Load Data\n",
    "kashti=sns.load_dataset('titanic')\n",
    "kashti\n",
    "\n",
    "# Draw a Bar plot\n",
    "\n",
    "sns.barplot(x='class', y='fare', hue='sex', data=kashti, estimator=median)\n",
    "plt.show()"
   ]
  },
  {
   "cell_type": "markdown",
   "id": "b52fc6ac",
   "metadata": {},
   "source": [
    "## Horizantal Plot"
   ]
  },
  {
   "cell_type": "code",
   "execution_count": 3,
   "id": "443c2fcc",
   "metadata": {
    "scrolled": true
   },
   "outputs": [
    {
     "data": {
      "image/png": "[encoded data removed]",
      "text/plain": [
       "<Figure size 432x288 with 1 Axes>"
      ]
     },
     "metadata": {
      "needs_background": "light"
     },
     "output_type": "display_data"
    }
   ],
   "source": [
    "# Horizantal plot\n",
    "# Import Libraries\n",
    "import seaborn as sns\n",
    "import matplotlib.pyplot as plt\n",
    "from numpy import median\n",
    "\n",
    "# Load Data\n",
    "kashti=sns.load_dataset('titanic')\n",
    "kashti\n",
    "\n",
    "# Draw a Bar plot\n",
    "\n",
    "sns.barplot(x='fare', y='class', hue='sex', data=kashti, estimator=median, saturation=0.8)\n",
    "plt.show()\n"
   ]
  },
  {
   "cell_type": "code",
   "execution_count": 34,
   "id": "418b42d0",
   "metadata": {},
   "outputs": [
    {
     "data": {
      "text/plain": [
       "<AxesSubplot:xlabel='class', ylabel='fare'>"
      ]
     },
     "execution_count": 34,
     "metadata": {},
     "output_type": "execute_result"
    },
    {
     "data": {
      "image/png": "[encoded data removed]",
      "text/plain": [
       "<Figure size 432x288 with 1 Axes>"
      ]
     },
     "metadata": {
      "needs_background": "light"
     },
     "output_type": "display_data"
    }
   ],
   "source": [
    "# Import Libraries\n",
    "import seaborn as sns\n",
    "import matplotlib.pyplot as plt\n",
    "\n",
    "\n",
    "kashti = sns.load_dataset('titanic')\n",
    "sns.barplot(x='class', y='fare', data=kashti, linewidth=2.5, facecolor=(0.4,0.4,0.4,0.5), errcolor='1', edgecolor='0.2') \n",
    "# facecolor=(1,1,1,0), errcolor='0.2',edgecolor='0.2')"
   ]
  },
  {
   "cell_type": "code",
   "execution_count": null,
   "id": "4e2b2384",
   "metadata": {},
   "outputs": [],
   "source": []
  }
 ],
 "metadata": {
  "kernelspec": {
   "display_name": "Python 3 (ipykernel)",
   "language": "python",
   "name": "python3"
  },
  "language_info": {
   "codemirror_mode": {
    "name": "ipython",
    "version": 3
   },
   "file_extension": ".py",
   "mimetype": "text/x-python",
   "name": "python",
   "nbconvert_exporter": "python",
   "pygments_lexer": "ipython3",
   "version": "3.9.7"
  }
 },
 "nbformat": 4,
 "nbformat_minor": 5
}
